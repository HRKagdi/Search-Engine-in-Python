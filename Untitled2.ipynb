{
 "cells": [
  {
   "cell_type": "code",
   "execution_count": 1,
   "metadata": {},
   "outputs": [
    {
     "data": {
      "text/plain": [
       "'C:\\\\Users\\\\Hussen\\\\Downloads\\\\Search Engine in Python'"
      ]
     },
     "execution_count": 1,
     "metadata": {},
     "output_type": "execute_result"
    }
   ],
   "source": [
    "pwd"
   ]
  },
  {
   "cell_type": "code",
   "execution_count": 4,
   "metadata": {},
   "outputs": [
    {
     "name": "stdout",
     "output_type": "stream",
     "text": [
      "C:\\Users\\Hussen\\Downloads\n"
     ]
    }
   ],
   "source": [
    "cd C:\\Users\\Hussen\\Downloads"
   ]
  },
  {
   "cell_type": "code",
   "execution_count": 7,
   "metadata": {},
   "outputs": [
    {
     "name": "stdout",
     "output_type": "stream",
     "text": [
      "C:\\Users\\Hussen\\Downloads\\SearchEngine\n"
     ]
    }
   ],
   "source": [
    "cd SearchEngine"
   ]
  },
  {
   "cell_type": "code",
   "execution_count": 8,
   "metadata": {},
   "outputs": [
    {
     "name": "stdout",
     "output_type": "stream",
     "text": [
      "C:\\Users\\Hussen\\Downloads\\SearchEngine\\Search Engine in Python\n"
     ]
    }
   ],
   "source": [
    "cd Search Engine in Python"
   ]
  },
  {
   "cell_type": "code",
   "execution_count": null,
   "metadata": {},
   "outputs": [],
   "source": [
    "from tkinter import *\n",
    "import tkinter.messagebox as tkMessageBox\n",
    "import os\n",
    "import numpy as np\n",
    "import tokeniser as tkn\n",
    "\n",
    "\n",
    "def searchQuery(query, text_files, stats_dict, Number_of_docs, doc_list, idf_dict, list_of_words):\n",
    "\n",
    "    processed_query = tkn.tokenise_normalise(query)  # normalising the query\n",
    "\n",
    "    final_query = processed_query\n",
    "\n",
    "    final_query = tkn.stem(final_query)  # stemming the query\n",
    "\n",
    "    final_query = [x for x in final_query if x in stats_dict]\n",
    "    if final_query:\n",
    "        # print final_query\n",
    "\n",
    "        query_dict = tkn.create_tf_dict_query(final_query)  # finding tf scores for each query word\n",
    "\n",
    "        query_dict = tkn.find_tfidf_query(query_dict, idf_dict,\n",
    "                                          Number_of_docs)  # find tf-idf scores for each query word\n",
    "\n",
    "        vector_array = np.zeros((len(query_dict.keys()), Number_of_docs))\n",
    "\n",
    "        i = 0\n",
    "        j = 0\n",
    "\n",
    "        query_vector = np.zeros((1, len(query_dict.keys())))\n",
    "\n",
    "        for w in query_dict:\n",
    "            # create tf-idf vector for each document for each word in query\n",
    "            query_vector[0][i] = query_dict[w]\n",
    "            for d in doc_list:\n",
    "                if d not in stats_dict[w]:\n",
    "                    j += 1\n",
    "                else:\n",
    "                    vector_array[i][j] = stats_dict[w][d]\n",
    "                    j += 1\n",
    "            i += 1\n",
    "            j = 0\n",
    "\n",
    "        vector_array[np.isnan(vector_array)] = 0\n",
    "\n",
    "        q_magnitude = np.linalg.norm(query_vector, axis=1)  # changing the query vector to unit vector\n",
    "        query_vector = np.divide(query_vector, q_magnitude)\n",
    "\n",
    "        dot_product = np.dot(query_vector, vector_array)  # finding the dot product of each document vector with query vector.\n",
    "        dot_product = dot_product.tolist()\n",
    "\n",
    "        final_rank = list(zip(dot_product[0], doc_list))  # sorting the cosine scores to rank the documents.\n",
    "        final_rank.sort(reverse=True)\n",
    "        searchf = Tk()\n",
    "        searchf.wm_title(query + \"-Harsh's Search Engine\")\n",
    "        blank = '           '\n",
    "        blanklabel = Label(searchf, text=blank * 20, font=(\"ComicSansMS\", 10))\n",
    "        label1 = Label(searchf, text='Query entered: '+query + '\\n\\n', font=(\"ComicSansMS\", 20))\n",
    "        label1.pack()\n",
    "        blanklabel.pack()\n",
    "\n",
    "        for i in final_rank[:5]:\n",
    "            labl = Label(searchf, text=i[1], font=(\"ComicSansMS\", 15), justify=LEFT)\n",
    "            labl.bind(\"<Button-1>\")\n",
    "            labl.pack()\n",
    "\n",
    "    else:\n",
    "        tkMessageBox.showinfo(\"Are yr!!\", \"Kuch nhi mila, Sorry!!\",\n",
    "                              icon='warning')  # if query is empty, print error message.\n",
    "\n",
    "\n",
    "corpus_dir = \"corpus\"  # getting text files\n",
    "\n",
    "text_files = [os.path.join(corpus_dir, f) for f in os.listdir(corpus_dir)]\n",
    "stats_dict = {}\n",
    "\n",
    "Number_of_docs = len(text_files)  # getting number of docs\n",
    "\n",
    "doc_list = []\n",
    "\n",
    "for f in text_files:  # reading each doc\n",
    "    doc = open(f, 'r')\n",
    "    lines = [l.strip() for l in doc.readlines()]\n",
    "\n",
    "    index = 0\n",
    "\n",
    "    full_transcript = []\n",
    "\n",
    "    while True:\n",
    "        if index >= len(lines):\n",
    "            break\n",
    "        line = lines[index]\n",
    "        full_transcript.append(line)\n",
    "        index += 1\n",
    "    # tokenising and stemming text\n",
    "    processed_text = tkn.tokenise_normalise(full_transcript)\n",
    "    processed_text = tkn.stem(processed_text)\n",
    "    stats_dict = tkn.create_tf_dict_doc(processed_text, f, stats_dict)  # creating tf dictionary\n",
    "    doc_list.append(f)\n",
    "\n",
    "stats_dict, idf_dict = tkn.find_tfidf_doc(stats_dict, Number_of_docs)\n",
    "\n",
    "list_of_words = sorted(stats_dict.keys())\n",
    "doc_list.sort()\n",
    "\n",
    "top = Tk()\n",
    "top.wm_title(\"Harsh's Search Engine\")\n",
    "f = Frame(top, width=600, height=350)\n",
    "f.pack(fill=X, expand=True)\n",
    "\n",
    "e1 = Entry(top, bd=6, width=40)\n",
    "e1.insert(END, 'Search here')\n",
    "e1.place(relx=0.5, rely=0.35, anchor=CENTER)\n",
    "b1 = Button(top, text=\"Search\",\n",
    "            command=lambda: searchQuery(e1.get(), text_files, stats_dict, Number_of_docs, doc_list, idf_dict,\n",
    "                                        list_of_words))\n",
    "b1.place(relx=0.5, rely=0.5, anchor=CENTER)\n",
    "top.mainloop()\n"
   ]
  },
  {
   "cell_type": "code",
   "execution_count": null,
   "metadata": {},
   "outputs": [],
   "source": []
  }
 ],
 "metadata": {
  "kernelspec": {
   "display_name": "Python 3",
   "language": "python",
   "name": "python3"
  },
  "language_info": {
   "codemirror_mode": {
    "name": "ipython",
    "version": 3
   },
   "file_extension": ".py",
   "mimetype": "text/x-python",
   "name": "python",
   "nbconvert_exporter": "python",
   "pygments_lexer": "ipython3",
   "version": "3.7.3"
  }
 },
 "nbformat": 4,
 "nbformat_minor": 2
}
